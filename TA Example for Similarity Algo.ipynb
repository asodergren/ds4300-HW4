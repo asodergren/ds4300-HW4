{
 "cells": [
  {
   "cell_type": "code",
   "execution_count": null,
   "id": "6413dc62",
   "metadata": {},
   "outputs": [],
   "source": [
    "import pandas as pd\n",
    "import librosa\n",
    "import numpy as np\n",
    "\n",
    "# read the CSV file\n",
    "df = pd.read_csv('songs.csv')\n",
    "\n",
    "# select 1000 songs at random\n",
    "random_songs = df.sample(n=1000)\n",
    "\n",
    "# initialize an empty list to store the similarity scores\n",
    "similarity_scores = []\n",
    "\n",
    "# iterate over each song in the random songs\n",
    "for index, song in random_songs.iterrows():\n",
    "    # load the audio file using librosa\n",
    "    audio, sr = librosa.load(song['path'])\n",
    "    \n",
    "    # extract features using librosa\n",
    "    feature_vector = librosa.feature.mfcc(audio, sr)\n",
    "    \n",
    "    # initialize an empty list to store the similarity scores for this song\n",
    "    song_similarity_scores = []\n",
    "    \n",
    "    # iterate over all other songs in the DataFrame\n",
    "    for index2, song2 in df.iterrows():\n",
    "        if song2['name'] != song['name']:\n",
    "            # load the audio file of the other song using librosa\n",
    "            audio2, sr2 = librosa.load(song2['path'])\n",
    "            \n",
    "            # extract features of the other song using librosa\n",
    "            feature_vector2 = librosa.feature.mfcc(audio2, sr2)\n",
    "            \n",
    "            # calculate the similarity score using Euclidean distance\n",
    "            euclidean_distance = np.linalg.norm(feature_vector - feature_vector2)\n",
    "            similarity_score = 1 / (1 + euclidean_distance)\n",
    "            \n",
    "            # append the similarity score to the list of similarity scores for this song\n",
    "            song_similarity_scores.append(similarity_score)\n",
    "    \n",
    "    # add the list of similarity scores for this song to the list of all similarity scores\n",
    "    similarity_scores.append(song_similarity_scores)\n",
    "\n",
    "# convert the list of similarity scores to a DataFrame\n",
    "similarity_scores_df = pd.DataFrame(similarity_scores)\n",
    "\n",
    "# set the column names of the DataFrame to the song names\n",
    "similarity_scores_df.columns = df['name'].tolist()\n",
    "\n",
    "# write the DataFrame to a CSV file\n",
    "similarity_scores_df.to_csv('similarity_scores.csv', index=False)"
   ]
  }
 ],
 "metadata": {
  "kernelspec": {
   "display_name": "Python 3 (ipykernel)",
   "language": "python",
   "name": "python3"
  },
  "language_info": {
   "codemirror_mode": {
    "name": "ipython",
    "version": 3
   },
   "file_extension": ".py",
   "mimetype": "text/x-python",
   "name": "python",
   "nbconvert_exporter": "python",
   "pygments_lexer": "ipython3",
   "version": "3.8.15"
  }
 },
 "nbformat": 4,
 "nbformat_minor": 5
}
